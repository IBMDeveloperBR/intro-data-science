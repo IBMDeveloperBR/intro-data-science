{
 "cells": [
  {
   "cell_type": "markdown",
   "metadata": {},
   "source": [
    "<h1 style='text-align:center'>Intro Data Science<h1>"
   ]
  },
  {
   "cell_type": "code",
   "execution_count": 1,
   "metadata": {},
   "outputs": [],
   "source": [
    "import numpy as np # Para manipulação numérica\n",
    "import pandas as pd # Para manipulação do dataset\n",
    "import matplotlib.pyplot as plt # Visualização de gráficos\n",
    "import seaborn as sns # Visualização de gráficos"
   ]
  },
  {
   "cell_type": "markdown",
   "metadata": {},
   "source": [
    "Vamos explorar o dataset sobre Brasil. Nele temos informação geográficas como:\n",
    "* Popoulação\n",
    "* IDH\n",
    "* PIB *Per capta*\n",
    "* etc\n",
    "\n",
    "Alêm dos dados geográficos, também estão presentes no dataset alguns dados mais variados como:\n",
    "* Presença de Uber\n",
    "* Quantidade de McDonald's\n",
    "* Quantidade de Wal-Mart\n",
    "* etc\n",
    "\n",
    "\n",
    "Vamos começar pela leitura do dataset"
   ]
  },
  {
   "cell_type": "code",
   "execution_count": null,
   "metadata": {},
   "outputs": [],
   "source": [
    "import types\n",
    "import pandas as pd\n",
    "from botocore.client import Config\n",
    "import ibm_boto3\n",
    "\n",
    "def __iter__(self): return 0\n",
    "\n",
    "credentials_1 = {\n",
    "    'IAM_SERVICE_ID': 'Let me take you down',\n",
    "    'IBM_API_KEY_ID': 'Cause I`m going to Strawberry Fields',\n",
    "    'ENDPOINT': 'Nothing is real',\n",
    "    'IBM_AUTH_ENDPOINT': 'And nothing to get hung about',\n",
    "    'BUCKET': 'Strawberry Fields forever',\n",
    "    'FILE': 'BRAZIL_CITIES.csv'\n",
    "}\n",
    "\n",
    "client = ibm_boto3.client(service_name='s3',\n",
    "    ibm_api_key_id=credentials_1['IBM_API_KEY_ID'],\n",
    "    ibm_auth_endpoint=credentials_1['IBM_AUTH_ENDPOINT'],\n",
    "    config=Config(signature_version='oauth'),\n",
    "    endpoint_url=credentials_1['ENDPOINT'])\n",
    "\n",
    "\n",
    "with open('BRAZIL_CITIES.csv', 'wb') as data:\n",
    "    client.download_fileobj(credentials_1['BUCKET'], 'BRAZIL_CITIES.csv', data)"
   ]
  },
  {
   "cell_type": "code",
   "execution_count": 26,
   "metadata": {},
   "outputs": [],
   "source": [
    "# precisamos ler o dataset"
   ]
  },
  {
   "cell_type": "markdown",
   "metadata": {},
   "source": [
    "Com dataset disponível para uso, vamos verificar o conteûdo do mesmo."
   ]
  },
  {
   "cell_type": "code",
   "execution_count": 3,
   "metadata": {},
   "outputs": [],
   "source": [
    "# precisamos visualizar se os dados estão todos corretos"
   ]
  },
  {
   "cell_type": "markdown",
   "metadata": {},
   "source": [
    "Os dados parecem corretos, mas vamos dar uma olhanda mais a fundo para nos certificamos de que os tipos estão corretos."
   ]
  },
  {
   "cell_type": "code",
   "execution_count": 5,
   "metadata": {},
   "outputs": [],
   "source": [
    "# Como podemos verificar o tipo de dados de cada variavel?"
   ]
  },
  {
   "cell_type": "markdown",
   "metadata": {},
   "source": [
    "Olhando para o dataset e verificandos os tipos dados que nos foi entregue, fica evidente que antes de iniciarmos qualquer trabalho de analise devemos corrigir e limpar imperfeições do dataset."
   ]
  },
  {
   "cell_type": "code",
   "execution_count": 6,
   "metadata": {},
   "outputs": [],
   "source": [
    "# Corrigir o tipo das variáveis erradas"
   ]
  },
  {
   "cell_type": "markdown",
   "metadata": {},
   "source": [
    "Para corrigir à área teremos que ser uma pouco mais criativos."
   ]
  },
  {
   "cell_type": "code",
   "execution_count": null,
   "metadata": {},
   "outputs": [],
   "source": [
    "def castStrNumber(s):\n",
    "    if len(s) == 2:\n",
    "        return s[0]+s[1]\n",
    "    elif len(s) > 2:\n",
    "        return s[0]+castStrNumber(s[1:len(s)])\n",
    "    else:\n",
    "        return s[0]\n",
    "\n",
    "area = []\n",
    "for i,j in df_01[['AREA']].iterrows():\n",
    "    if type(j[0]) == str:\n",
    "        area.append(castStrNumber(j[0].split(',')))\n",
    "    else:\n",
    "        area.append(j[0])\n",
    "    \n",
    "df_01[['AREA']] = np.array(area)\n",
    "df_01[['AREA']] = df_01[['AREA']].astype(float)"
   ]
  },
  {
   "cell_type": "code",
   "execution_count": null,
   "metadata": {},
   "outputs": [],
   "source": [
    "df_01.fillna(0., inplace=True)"
   ]
  },
  {
   "cell_type": "code",
   "execution_count": null,
   "metadata": {},
   "outputs": [],
   "source": [
    "# Foi corrigido?"
   ]
  },
  {
   "cell_type": "markdown",
   "metadata": {},
   "source": [
    "Agora parece tudo correto com relação ao tipo dos dados, então vamos explorar um pouco mais do dataset"
   ]
  },
  {
   "cell_type": "code",
   "execution_count": 8,
   "metadata": {},
   "outputs": [],
   "source": [
    "# Vamos olhar um pouco mais sobre o dataset"
   ]
  },
  {
   "cell_type": "code",
   "execution_count": 12,
   "metadata": {},
   "outputs": [],
   "source": [
    "# Vamos contar os dados"
   ]
  },
  {
   "cell_type": "code",
   "execution_count": 13,
   "metadata": {},
   "outputs": [
    {
     "data": {
      "text/plain": [
       "(27,)"
      ]
     },
     "execution_count": 13,
     "metadata": {},
     "output_type": "execute_result"
    }
   ],
   "source": [
    "# Vamos verificar se está certo"
   ]
  },
  {
   "cell_type": "markdown",
   "metadata": {},
   "source": [
    "Com dataset limpo e adequado, agora podemos começar a explorar algumas métricas. Vamos verificar a quintidade de municípios por estado."
   ]
  },
  {
   "cell_type": "code",
   "execution_count": 15,
   "metadata": {},
   "outputs": [],
   "source": [
    "# Quantas cidades têm cada estado do Br?"
   ]
  },
  {
   "cell_type": "code",
   "execution_count": 18,
   "metadata": {},
   "outputs": [],
   "source": [
    "# Quantas cidades têm cada estado do Br? Outra forma"
   ]
  },
  {
   "cell_type": "markdown",
   "metadata": {},
   "source": [
    "Agora vamos começar a explorar um pouco mais gerar visualizações para os nossos dados."
   ]
  },
  {
   "cell_type": "code",
   "execution_count": null,
   "metadata": {},
   "outputs": [],
   "source": [
    "# Onde os municípios do país estão localizados?"
   ]
  },
  {
   "cell_type": "code",
   "execution_count": null,
   "metadata": {},
   "outputs": [],
   "source": [
    "# Onde a popolução do país está localizada?"
   ]
  },
  {
   "cell_type": "markdown",
   "metadata": {},
   "source": [
    "Um pouquinho de miscelânia agora, vamos descobrir onde os Wal-Mart do Brasil estão, ou pelo menos estavam..."
   ]
  },
  {
   "cell_type": "code",
   "execution_count": null,
   "metadata": {},
   "outputs": [],
   "source": [
    "# Onde os Wal-Mart do país estão localizadas?"
   ]
  },
  {
   "cell_type": "markdown",
   "metadata": {},
   "source": [
    "Vamos criar novas métricas agora. O classificar as cidades que possuem os serviços de Uber, MaCdonald's e Walmart de acordo com as seguintes categorias:\n",
    "* A -> Cidade possui os três serviços\n",
    "* B -> Cidade possui Mac e Walmart\n",
    "* C -> Cidade possui Uber e Walmart\n",
    "* D -> Cidade possui Uber e Mac\n",
    "* E -> Cidade possui somente Uber\n",
    "* F -> Cidade possui somente Mac\n",
    "* G -> Cidade possui somente walmart\n",
    "* Z -> Cidade não possui nenhum dos serviços\n",
    "\n",
    "Para isso vamos iterar o dataset analisando linha a linha para gerar a categoria final."
   ]
  },
  {
   "cell_type": "code",
   "execution_count": null,
   "metadata": {},
   "outputs": [],
   "source": [
    "# Vamos criar um novo dado na coluna baseado nos dados que já temos"
   ]
  },
  {
   "cell_type": "code",
   "execution_count": 20,
   "metadata": {},
   "outputs": [],
   "source": [
    "# Vamos visualziar os dados da coluna que criamos"
   ]
  },
  {
   "cell_type": "markdown",
   "metadata": {},
   "source": [
    "E como isso divide entre os município do país."
   ]
  },
  {
   "cell_type": "code",
   "execution_count": 21,
   "metadata": {},
   "outputs": [],
   "source": [
    "# Como as cidades do Brasil se encaixam nas categorias criadas"
   ]
  },
  {
   "cell_type": "markdown",
   "metadata": {},
   "source": [
    "E a qual a parcela da população com acesso a estes serviços ?"
   ]
  },
  {
   "cell_type": "code",
   "execution_count": 22,
   "metadata": {},
   "outputs": [],
   "source": [
    "# Como a população do Brasil se encaixa nas categorias criadas"
   ]
  },
  {
   "cell_type": "markdown",
   "metadata": {},
   "source": [
    "Vamos explorar um pouco agora o quão sensível algumas variáveis são as outras. Podemos fazer isso por meio de um mapa de calor"
   ]
  },
  {
   "cell_type": "code",
   "execution_count": null,
   "metadata": {},
   "outputs": [],
   "source": [
    "ID01 = df_01[['ESTIMATED_POP', 'AREA', 'IDHM', 'GVA_AGROPEC', 'GVA_INDUSTRY', 'GVA_SERVICES', 'GVA_PUBLIC', 'POP_GDP']]\n",
    "\n",
    "tot = np.array(ID01['GVA_AGROPEC'])+np.array(ID01['GVA_INDUSTRY'])+np.array(ID01['GVA_SERVICES'])+np.array(ID01['GVA_PUBLIC'])\n",
    "gva_agro = [j[0]/(j.sum()) if j[0] != 0 else 0 for i,j in ID01[['GVA_AGROPEC', 'GVA_INDUSTRY', 'GVA_SERVICES', 'GVA_PUBLIC']].iterrows()\n",
    "# Vamos criar o que falta\n",
    "            \n",
    "ID01.insert(8, 'GVA_AGROPEC_%', gva_agro)\n",
    "ID01.insert(9, 'GVA_INDUSTRY_%', gva_ind)\n",
    "ID01.insert(10, 'GVA_SERVICES_%', gva_serv)\n",
    "ID01.insert(11, 'GVA_PUBLIC_%', gva_pub)"
   ]
  },
  {
   "cell_type": "code",
   "execution_count": 23,
   "metadata": {},
   "outputs": [],
   "source": [
    "# Vamos criar um mapa de calor para identificar quais vairiáveis tem maior correlação entre elas"
   ]
  },
  {
   "cell_type": "markdown",
   "metadata": {},
   "source": [
    "Parece que existe uma correlação forte entre algumas variáveis, logo podemos montar um modelo de regressão linear para entendermos como um variável se comporta em função da outra.\n",
    "\n",
    "Para isso vamos precisar de mais algumas bibliotecas para que possamos cumprir essa missão."
   ]
  },
  {
   "cell_type": "code",
   "execution_count": null,
   "metadata": {},
   "outputs": [],
   "source": [
    "from sklearn.linear_model import LinearRegression\n",
    "from sklearn.model_selection import train_test_split\n",
    "from sklearn.metrics import mean_squared_error, r2_score"
   ]
  },
  {
   "cell_type": "markdown",
   "metadata": {},
   "source": [
    "Vamos deixar bem separado nosso domínio e contra domínio"
   ]
  },
  {
   "cell_type": "code",
   "execution_count": 24,
   "metadata": {},
   "outputs": [],
   "source": [
    "# Vamos estabelecer um domínio das varáveis"
   ]
  },
  {
   "cell_type": "markdown",
   "metadata": {},
   "source": [
    "Agora vamos separa o conjuntos de dados em dois, um para treinarmento e outro para teste do modelo criado"
   ]
  },
  {
   "cell_type": "code",
   "execution_count": null,
   "metadata": {},
   "outputs": [],
   "source": [
    "X_train, X_test, Y_train, Y_test = train_test_split(X, Y, test_size=0.2, random_state=42)"
   ]
  },
  {
   "cell_type": "markdown",
   "metadata": {},
   "source": [
    "Vamos tentar uma fução que descreve bem os dados. A priemira será a regresão linear: LinearRegression"
   ]
  },
  {
   "cell_type": "code",
   "execution_count": null,
   "metadata": {},
   "outputs": [],
   "source": [
    "reg = LinearRegression()"
   ]
  },
  {
   "cell_type": "markdown",
   "metadata": {},
   "source": [
    "Vamos alimetar o modelo com dados obter os coeficienes para cada eixo."
   ]
  },
  {
   "cell_type": "code",
   "execution_count": null,
   "metadata": {},
   "outputs": [],
   "source": [
    "# Vamos montar uma regressão"
   ]
  },
  {
   "cell_type": "code",
   "execution_count": null,
   "metadata": {},
   "outputs": [],
   "source": [
    "print('Score(R2) do modelo para o conjunto de treino: {}'.format(reg.score(X_train,Y_train)))"
   ]
  },
  {
   "cell_type": "code",
   "execution_count": null,
   "metadata": {},
   "outputs": [],
   "source": [
    "# Inclinação da reta"
   ]
  },
  {
   "cell_type": "code",
   "execution_count": null,
   "metadata": {},
   "outputs": [],
   "source": [
    "# Interceptação das ordenadas"
   ]
  },
  {
   "cell_type": "markdown",
   "metadata": {},
   "source": [
    "Desta forms a equação fica $$f(x,y,z) = cof1x + cof2y + cof3z + int$$"
   ]
  },
  {
   "cell_type": "code",
   "execution_count": null,
   "metadata": {},
   "outputs": [],
   "source": [
    "# Equação da reta treinada"
   ]
  },
  {
   "cell_type": "markdown",
   "metadata": {},
   "source": [
    "Com isso descobrimos a melhor função que descreve os dados obtidos para o modelo de LinearRegression"
   ]
  },
  {
   "cell_type": "code",
   "execution_count": 25,
   "metadata": {},
   "outputs": [],
   "source": [
    "# Realizando predições"
   ]
  },
  {
   "cell_type": "code",
   "execution_count": null,
   "metadata": {},
   "outputs": [],
   "source": [
    "# O quão bom está esse modelo?"
   ]
  },
  {
   "cell_type": "markdown",
   "metadata": {},
   "source": [
    "Vamos testar agora uma regressão com SVM"
   ]
  },
  {
   "cell_type": "code",
   "execution_count": null,
   "metadata": {},
   "outputs": [],
   "source": [
    "from sklearn import svm"
   ]
  },
  {
   "cell_type": "code",
   "execution_count": null,
   "metadata": {},
   "outputs": [],
   "source": [
    "clf = svm.SVR()"
   ]
  },
  {
   "cell_type": "code",
   "execution_count": null,
   "metadata": {},
   "outputs": [],
   "source": [
    "# Vamos montar uma regressão a partir de outro modelo"
   ]
  },
  {
   "cell_type": "code",
   "execution_count": null,
   "metadata": {},
   "outputs": [],
   "source": [
    "# Realizando predições"
   ]
  },
  {
   "cell_type": "code",
   "execution_count": null,
   "metadata": {},
   "outputs": [],
   "source": [
    "# O quão bom está este modelo ?"
   ]
  },
  {
   "cell_type": "markdown",
   "metadata": {},
   "source": [
    "Agora vamos testar uma com Árvore de Decisão"
   ]
  },
  {
   "cell_type": "code",
   "execution_count": null,
   "metadata": {},
   "outputs": [],
   "source": [
    "from sklearn import tree"
   ]
  },
  {
   "cell_type": "code",
   "execution_count": null,
   "metadata": {},
   "outputs": [],
   "source": [
    "arv = tree.DecisionTreeRegressor() "
   ]
  },
  {
   "cell_type": "code",
   "execution_count": null,
   "metadata": {},
   "outputs": [],
   "source": [
    "# Novamente, vamos montar uma regressão a partir de outro modelo"
   ]
  },
  {
   "cell_type": "code",
   "execution_count": null,
   "metadata": {},
   "outputs": [],
   "source": [
    "# Realizando predições"
   ]
  },
  {
   "cell_type": "code",
   "execution_count": null,
   "metadata": {},
   "outputs": [],
   "source": [
    "# O quão bom está este modelo ?"
   ]
  },
  {
   "cell_type": "code",
   "execution_count": null,
   "metadata": {},
   "outputs": [],
   "source": [
    "from watson_machine_learning_client import WatsonMachineLearningAPIClient"
   ]
  },
  {
   "cell_type": "code",
   "execution_count": null,
   "metadata": {},
   "outputs": [],
   "source": [
    "# Credenciais do Watson Machine Learning\n",
    "wml_credentials  = {\n",
    "  \"apikey\": \"Picture yourself in a boat on a river\",\n",
    "  \"iam_apikey_description\": \"With tangerine trees and marmalade skies\",\n",
    "  \"iam_apikey_name\": \"Somebody calls you, you answer quite slowly\",\n",
    "  \"iam_role_crn\": \"A girl with kaleidoscope eyes\",\n",
    "  \"iam_serviceid_crn\": \"Cellophane flowers of yellow and green\",\n",
    "  \"instance_id\": \"Towering over your head\",\n",
    "  \"password\": \"Look for the girl with the sun in her eyes\",\n",
    "  \"url\": \"And she's gone\",\n",
    "  \"username\": \"Lucy in the sky with diamonds\"\n",
    "}\n",
    "client = WatsonMachineLearningAPIClient( wml_credentials )\n",
    "\n",
    "# Definição de metadados do modelo (versao de python, framework, libs e etc)\n",
    "metadata = {\n",
    "    client.repository.ModelMetaNames.NAME              : 'Intro Data Science',\n",
    "    client.repository.ModelMetaNames.FRAMEWORK_NAME    : 'scikit-learn',\n",
    "    client.repository.ModelMetaNames.FRAMEWORK_VERSION : '0.19',\n",
    "    client.repository.ModelMetaNames.RUNTIME_NAME      : 'python',\n",
    "    client.repository.ModelMetaNames.RUNTIME_VERSION   : '3.6'\n",
    "}\n",
    "\n",
    "\n",
    "# Conexão com o WML\n",
    "model_details = client.repository.store_model( reg, meta_props=metadata, training_data=None )\n",
    "\n",
    "# Deploy do modelo\n",
    "model_id = model_details[\"metadata\"][\"guid\"]\n",
    "model_deployment_details = client.deployments.create( artifact_uid=model_id, name=\"Ha\" )\n",
    "\n",
    "# Retrieve da URL da API para consumo da mesma\n",
    "model_endpoint_url = client.deployments.get_scoring_url( model_deployment_details )\n",
    "print(\"A URL de chamada da sua API é : \",model_endpoint_url)"
   ]
  },
  {
   "cell_type": "markdown",
   "metadata": {},
   "source": [
    "### Referências \n",
    "\n",
    "\n",
    "- [Dataset](https://www.kaggle.com/crisparada/brazilian-cities/version/7)\n",
    "- [Notebook guia](https://www.kaggle.com/crisparada/brazilian-cities-a-simple-exploration)\n",
    "- [Pandas](https://pandas.pydata.org/)\n",
    "- [Numpy](https://numpy.org/)\n",
    "- [Matplotlib](https://matplotlib.org/)\n",
    "- [Seaborn](https://seaborn.pydata.org/)\n",
    "- [Scikit-Learn](https://scikit-learn.org/stable/)"
   ]
  },
  {
   "cell_type": "markdown",
   "metadata": {},
   "source": [
    "<h1 style='text-align:center'>Obrigado!<h1>"
   ]
  }
 ],
 "metadata": {
  "kernelspec": {
   "display_name": "Python 3",
   "language": "python",
   "name": "python3"
  },
  "language_info": {
   "codemirror_mode": {
    "name": "ipython",
    "version": 3
   },
   "file_extension": ".py",
   "mimetype": "text/x-python",
   "name": "python",
   "nbconvert_exporter": "python",
   "pygments_lexer": "ipython3",
   "version": "3.7.4"
  }
 },
 "nbformat": 4,
 "nbformat_minor": 2
}
